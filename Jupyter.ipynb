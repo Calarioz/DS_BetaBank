{
 "cells": [
  {
   "cell_type": "markdown",
   "metadata": {},
   "source": [
    "## INTRODUCTION\n",
    "\n",
    "\n",
    "Beta Bank's customers are leaving slowly each month. Bankers have discovered that it is cheaper to retain existing customers than to attract new ones. We need to predict whether a customer will leave the bank soon. We have data on the past behavior of customers and contract terminations with the bank. \n",
    "\n",
    "___Request___\n",
    "\n",
    "- The bank is looking fo an F1 score of at least 0.59\n",
    "- Create a model to predict whether a customer will leave the bank soon.\n",
    "\n",
    "This Dataset come from the ___TrippleTen - Data Scientis Course___."
   ]
  },
  {
   "cell_type": "markdown",
   "metadata": {},
   "source": [
    "## DATA DESCRIPTION\n",
    "Churn.csv\n",
    "- RowNumber: index of the data entry\n",
    "- CustomerId: unique customer identifier\n",
    "- Surname: last name\n",
    "- CreditScore: credit score value\n",
    "- Geography: country of residence\n",
    "- Gender: gender of the customer\n",
    "- Age: age of the customer\n",
    "- Tenure: the period (in years) during which the customer has held a fixed-term deposit\n",
    "- Balance: account balance\n",
    "- NumOfProducts: number of banking products used by the customer\n",
    "- HasCrCard: whether the customer has a credit card (1 - yes; 0 - no)\n",
    "- IsActiveMember: customer activity status (1 - active; 0 - inactive)\n",
    "- EstimatedSalary: estimated salary of the customer"
   ]
  },
  {
   "cell_type": "code",
   "execution_count": 316,
   "metadata": {},
   "outputs": [],
   "source": [
    "import pandas as pd\n",
    "import numpy as np\n",
    "import seaborn as sns\n",
    "import matplotlib.pyplot as plt\n",
    "from sklearn.model_selection import train_test_split # \n",
    "from sklearn.tree import DecisionTreeClassifier     # ML\n",
    "from sklearn.ensemble import RandomForestClassifier # ML\n",
    "from sklearn.linear_model import LogisticRegression # ML\n",
    "from sklearn.metrics import f1_score, roc_auc_score # Metrics\n",
    "from sklearn.utils import shuffle"
   ]
  },
  {
   "cell_type": "code",
   "execution_count": 317,
   "metadata": {},
   "outputs": [],
   "source": [
    "bbank = pd.read_csv(\"Churn.csv\")"
   ]
  },
  {
   "cell_type": "code",
   "execution_count": 318,
   "metadata": {},
   "outputs": [
    {
     "name": "stdout",
     "output_type": "stream",
     "text": [
      "<class 'pandas.core.frame.DataFrame'>\n",
      "RangeIndex: 10000 entries, 0 to 9999\n",
      "Data columns (total 14 columns):\n",
      " #   Column           Non-Null Count  Dtype  \n",
      "---  ------           --------------  -----  \n",
      " 0   RowNumber        10000 non-null  int64  \n",
      " 1   CustomerId       10000 non-null  int64  \n",
      " 2   Surname          10000 non-null  object \n",
      " 3   CreditScore      10000 non-null  int64  \n",
      " 4   Geography        10000 non-null  object \n",
      " 5   Gender           10000 non-null  object \n",
      " 6   Age              10000 non-null  int64  \n",
      " 7   Tenure           9091 non-null   float64\n",
      " 8   Balance          10000 non-null  float64\n",
      " 9   NumOfProducts    10000 non-null  int64  \n",
      " 10  HasCrCard        10000 non-null  int64  \n",
      " 11  IsActiveMember   10000 non-null  int64  \n",
      " 12  EstimatedSalary  10000 non-null  float64\n",
      " 13  Exited           10000 non-null  int64  \n",
      "dtypes: float64(3), int64(8), object(3)\n",
      "memory usage: 1.1+ MB\n"
     ]
    }
   ],
   "source": [
    "bbank.info()"
   ]
  },
  {
   "cell_type": "code",
   "execution_count": 319,
   "metadata": {},
   "outputs": [
    {
     "data": {
      "text/html": [
       "<div>\n",
       "<style scoped>\n",
       "    .dataframe tbody tr th:only-of-type {\n",
       "        vertical-align: middle;\n",
       "    }\n",
       "\n",
       "    .dataframe tbody tr th {\n",
       "        vertical-align: top;\n",
       "    }\n",
       "\n",
       "    .dataframe thead th {\n",
       "        text-align: right;\n",
       "    }\n",
       "</style>\n",
       "<table border=\"1\" class=\"dataframe\">\n",
       "  <thead>\n",
       "    <tr style=\"text-align: right;\">\n",
       "      <th></th>\n",
       "      <th>RowNumber</th>\n",
       "      <th>CustomerId</th>\n",
       "      <th>Surname</th>\n",
       "      <th>CreditScore</th>\n",
       "      <th>Geography</th>\n",
       "      <th>Gender</th>\n",
       "      <th>Age</th>\n",
       "      <th>Tenure</th>\n",
       "      <th>Balance</th>\n",
       "      <th>NumOfProducts</th>\n",
       "      <th>HasCrCard</th>\n",
       "      <th>IsActiveMember</th>\n",
       "      <th>EstimatedSalary</th>\n",
       "      <th>Exited</th>\n",
       "    </tr>\n",
       "  </thead>\n",
       "  <tbody>\n",
       "    <tr>\n",
       "      <th>868</th>\n",
       "      <td>869</td>\n",
       "      <td>15646810</td>\n",
       "      <td>Quinn</td>\n",
       "      <td>603</td>\n",
       "      <td>Germany</td>\n",
       "      <td>Male</td>\n",
       "      <td>44</td>\n",
       "      <td>6.0</td>\n",
       "      <td>108122.39</td>\n",
       "      <td>2</td>\n",
       "      <td>1</td>\n",
       "      <td>0</td>\n",
       "      <td>108488.33</td>\n",
       "      <td>1</td>\n",
       "    </tr>\n",
       "    <tr>\n",
       "      <th>4724</th>\n",
       "      <td>4725</td>\n",
       "      <td>15578648</td>\n",
       "      <td>Marino</td>\n",
       "      <td>543</td>\n",
       "      <td>Germany</td>\n",
       "      <td>Male</td>\n",
       "      <td>49</td>\n",
       "      <td>6.0</td>\n",
       "      <td>59532.18</td>\n",
       "      <td>1</td>\n",
       "      <td>1</td>\n",
       "      <td>0</td>\n",
       "      <td>104253.56</td>\n",
       "      <td>0</td>\n",
       "    </tr>\n",
       "    <tr>\n",
       "      <th>6435</th>\n",
       "      <td>6436</td>\n",
       "      <td>15754874</td>\n",
       "      <td>Nwoye</td>\n",
       "      <td>700</td>\n",
       "      <td>France</td>\n",
       "      <td>Male</td>\n",
       "      <td>26</td>\n",
       "      <td>4.0</td>\n",
       "      <td>119009.57</td>\n",
       "      <td>1</td>\n",
       "      <td>1</td>\n",
       "      <td>0</td>\n",
       "      <td>141926.43</td>\n",
       "      <td>0</td>\n",
       "    </tr>\n",
       "    <tr>\n",
       "      <th>358</th>\n",
       "      <td>359</td>\n",
       "      <td>15633950</td>\n",
       "      <td>Yen</td>\n",
       "      <td>737</td>\n",
       "      <td>France</td>\n",
       "      <td>Male</td>\n",
       "      <td>41</td>\n",
       "      <td>1.0</td>\n",
       "      <td>101960.74</td>\n",
       "      <td>1</td>\n",
       "      <td>1</td>\n",
       "      <td>1</td>\n",
       "      <td>123547.28</td>\n",
       "      <td>0</td>\n",
       "    </tr>\n",
       "    <tr>\n",
       "      <th>8021</th>\n",
       "      <td>8022</td>\n",
       "      <td>15697691</td>\n",
       "      <td>Sinclair</td>\n",
       "      <td>512</td>\n",
       "      <td>France</td>\n",
       "      <td>Female</td>\n",
       "      <td>41</td>\n",
       "      <td>6.0</td>\n",
       "      <td>0.00</td>\n",
       "      <td>1</td>\n",
       "      <td>1</td>\n",
       "      <td>1</td>\n",
       "      <td>100507.81</td>\n",
       "      <td>0</td>\n",
       "    </tr>\n",
       "    <tr>\n",
       "      <th>5595</th>\n",
       "      <td>5596</td>\n",
       "      <td>15616431</td>\n",
       "      <td>Chiu</td>\n",
       "      <td>608</td>\n",
       "      <td>France</td>\n",
       "      <td>Male</td>\n",
       "      <td>33</td>\n",
       "      <td>4.0</td>\n",
       "      <td>0.00</td>\n",
       "      <td>1</td>\n",
       "      <td>0</td>\n",
       "      <td>1</td>\n",
       "      <td>130474.03</td>\n",
       "      <td>0</td>\n",
       "    </tr>\n",
       "    <tr>\n",
       "      <th>36</th>\n",
       "      <td>37</td>\n",
       "      <td>15788448</td>\n",
       "      <td>Watson</td>\n",
       "      <td>490</td>\n",
       "      <td>Spain</td>\n",
       "      <td>Male</td>\n",
       "      <td>31</td>\n",
       "      <td>3.0</td>\n",
       "      <td>145260.23</td>\n",
       "      <td>1</td>\n",
       "      <td>0</td>\n",
       "      <td>1</td>\n",
       "      <td>114066.77</td>\n",
       "      <td>0</td>\n",
       "    </tr>\n",
       "    <tr>\n",
       "      <th>4558</th>\n",
       "      <td>4559</td>\n",
       "      <td>15623730</td>\n",
       "      <td>Ch'iu</td>\n",
       "      <td>792</td>\n",
       "      <td>France</td>\n",
       "      <td>Male</td>\n",
       "      <td>34</td>\n",
       "      <td>1.0</td>\n",
       "      <td>0.00</td>\n",
       "      <td>1</td>\n",
       "      <td>0</td>\n",
       "      <td>1</td>\n",
       "      <td>86330.32</td>\n",
       "      <td>0</td>\n",
       "    </tr>\n",
       "    <tr>\n",
       "      <th>100</th>\n",
       "      <td>101</td>\n",
       "      <td>15808582</td>\n",
       "      <td>Fu</td>\n",
       "      <td>665</td>\n",
       "      <td>France</td>\n",
       "      <td>Female</td>\n",
       "      <td>40</td>\n",
       "      <td>6.0</td>\n",
       "      <td>0.00</td>\n",
       "      <td>1</td>\n",
       "      <td>1</td>\n",
       "      <td>1</td>\n",
       "      <td>161848.03</td>\n",
       "      <td>0</td>\n",
       "    </tr>\n",
       "    <tr>\n",
       "      <th>4155</th>\n",
       "      <td>4156</td>\n",
       "      <td>15708003</td>\n",
       "      <td>Aleksandrova</td>\n",
       "      <td>587</td>\n",
       "      <td>Spain</td>\n",
       "      <td>Male</td>\n",
       "      <td>41</td>\n",
       "      <td>8.0</td>\n",
       "      <td>85109.21</td>\n",
       "      <td>1</td>\n",
       "      <td>1</td>\n",
       "      <td>0</td>\n",
       "      <td>1557.82</td>\n",
       "      <td>0</td>\n",
       "    </tr>\n",
       "  </tbody>\n",
       "</table>\n",
       "</div>"
      ],
      "text/plain": [
       "      RowNumber  CustomerId       Surname  CreditScore Geography  Gender  Age  \\\n",
       "868         869    15646810         Quinn          603   Germany    Male   44   \n",
       "4724       4725    15578648        Marino          543   Germany    Male   49   \n",
       "6435       6436    15754874         Nwoye          700    France    Male   26   \n",
       "358         359    15633950           Yen          737    France    Male   41   \n",
       "8021       8022    15697691      Sinclair          512    France  Female   41   \n",
       "5595       5596    15616431          Chiu          608    France    Male   33   \n",
       "36           37    15788448        Watson          490     Spain    Male   31   \n",
       "4558       4559    15623730         Ch'iu          792    France    Male   34   \n",
       "100         101    15808582            Fu          665    France  Female   40   \n",
       "4155       4156    15708003  Aleksandrova          587     Spain    Male   41   \n",
       "\n",
       "      Tenure    Balance  NumOfProducts  HasCrCard  IsActiveMember  \\\n",
       "868      6.0  108122.39              2          1               0   \n",
       "4724     6.0   59532.18              1          1               0   \n",
       "6435     4.0  119009.57              1          1               0   \n",
       "358      1.0  101960.74              1          1               1   \n",
       "8021     6.0       0.00              1          1               1   \n",
       "5595     4.0       0.00              1          0               1   \n",
       "36       3.0  145260.23              1          0               1   \n",
       "4558     1.0       0.00              1          0               1   \n",
       "100      6.0       0.00              1          1               1   \n",
       "4155     8.0   85109.21              1          1               0   \n",
       "\n",
       "      EstimatedSalary  Exited  \n",
       "868         108488.33       1  \n",
       "4724        104253.56       0  \n",
       "6435        141926.43       0  \n",
       "358         123547.28       0  \n",
       "8021        100507.81       0  \n",
       "5595        130474.03       0  \n",
       "36          114066.77       0  \n",
       "4558         86330.32       0  \n",
       "100         161848.03       0  \n",
       "4155          1557.82       0  "
      ]
     },
     "execution_count": 319,
     "metadata": {},
     "output_type": "execute_result"
    }
   ],
   "source": [
    "bbank.sample(10)"
   ]
  },
  {
   "cell_type": "code",
   "execution_count": 320,
   "metadata": {},
   "outputs": [
    {
     "name": "stdout",
     "output_type": "stream",
     "text": [
      "Duplicates : 0\n"
     ]
    }
   ],
   "source": [
    "print(f\"Duplicates : {bbank.duplicated().sum()}\")"
   ]
  },
  {
   "cell_type": "code",
   "execution_count": 321,
   "metadata": {},
   "outputs": [
    {
     "name": "stdout",
     "output_type": "stream",
     "text": [
      "Active Customer: 7963\n",
      "Exited Customer: 2037\n"
     ]
    },
    {
     "name": "stderr",
     "output_type": "stream",
     "text": [
      "C:\\Users\\JoseC\\AppData\\Local\\Temp\\ipykernel_17052\\3851403706.py:6: FutureWarning: \n",
      "\n",
      "Passing `palette` without assigning `hue` is deprecated and will be removed in v0.14.0. Assign the `x` variable to `hue` and set `legend=False` for the same effect.\n",
      "\n",
      "  sns.barplot(x=f_summary.index, y=f_summary.values, palette='Set2')\n"
     ]
    },
    {
     "data": {
      "text/plain": [
       "Text(0, 0.5, 'Frequency')"
      ]
     },
     "execution_count": 321,
     "metadata": {},
     "output_type": "execute_result"
    },
    {
     "data": {
      "image/png": "[encoded data removed]",
      "text/plain": [
       "<Figure size 640x480 with 1 Axes>"
      ]
     },
     "metadata": {},
     "output_type": "display_data"
    }
   ],
   "source": [
    "# Viewing target values\n",
    "f_summary = bbank['Exited'].value_counts()\n",
    "print(f\"Active Customer: {f_summary[0]}\\nExited Customer: {f_summary[1]}\")\n",
    "\n",
    "# Chart\n",
    "sns.barplot(x=f_summary.index, y=f_summary.values, palette='Set2')\n",
    "\n",
    "# Settings\n",
    "plt.title('Distribution of Active - Exited customers')\n",
    "plt.xlabel('0 = Active / 1 = Exited')\n",
    "plt.ylabel('Frequency')"
   ]
  },
  {
   "cell_type": "markdown",
   "metadata": {},
   "source": [
    "Remarks\n",
    "\n",
    "- The ___RowNumber, CustomerId, and Surname___ columns do not add value to the dataframe for implementing a machine learning model, so we will proceed to remove them.\n",
    "- The ___Tenure___ column should be of type int64, and we will replace any missing values with 0.\n",
    "- As a convention, all column names will be converted to lowercase.\n",
    "- The ___Exited___ column will be used as the target variable, and the remaining columns will be considered as features.\n",
    "- Based on the chart, we can observe a 4:1 imbalance"
   ]
  },
  {
   "cell_type": "markdown",
   "metadata": {},
   "source": [
    "## PRE-PROCESSING"
   ]
  },
  {
   "cell_type": "code",
   "execution_count": 322,
   "metadata": {},
   "outputs": [
    {
     "name": "stderr",
     "output_type": "stream",
     "text": [
      "C:\\Users\\JoseC\\AppData\\Local\\Temp\\ipykernel_17052\\701677440.py:8: FutureWarning: A value is trying to be set on a copy of a DataFrame or Series through chained assignment using an inplace method.\n",
      "The behavior will change in pandas 3.0. This inplace method will never work because the intermediate object on which we are setting values always behaves as a copy.\n",
      "\n",
      "For example, when doing 'df[col].method(value, inplace=True)', try using 'df.method({col: value}, inplace=True)' or df[col] = df[col].method(value) instead, to perform the operation inplace on the original object.\n",
      "\n",
      "\n",
      "  bbank['tenure'].fillna(0.0,inplace=True)\n"
     ]
    }
   ],
   "source": [
    "# Dropping features\n",
    "bbank = bbank.drop(columns=['RowNumber','CustomerId','Surname'])\n",
    "\n",
    "# Configuring columns names\n",
    "bbank.columns = bbank.columns.str.lower()\n",
    "\n",
    "# Fillin NaN\n",
    "bbank['tenure'].fillna(0.0,inplace=True)\n",
    "\n",
    "# Changing datatypes \n",
    "bbank['tenure'] = bbank['tenure'].astype('int64')"
   ]
  },
  {
   "cell_type": "markdown",
   "metadata": {},
   "source": [
    "## DATA SEGMENTATION\n",
    "\n",
    "Data Segmentation - Training (60%) - Validation (20%) - Test (20%)"
   ]
  },
  {
   "cell_type": "code",
   "execution_count": 323,
   "metadata": {},
   "outputs": [
    {
     "name": "stdout",
     "output_type": "stream",
     "text": [
      "From 100% of the data, the following was selected:\n",
      "60.0% for training.\n",
      "20.0% for validation.\n",
      "20.0% for testing.\n"
     ]
    }
   ],
   "source": [
    "total = bbank['age'].count() \n",
    "\n",
    "# One-Hot Encoding\n",
    "data_ohe = pd.get_dummies(bbank, drop_first=True)\n",
    "\n",
    "# Getting 20% (test)\n",
    "df_remaining, df_test = train_test_split(data_ohe,test_size=0.20, random_state=1996)\n",
    "\n",
    "# Getting 60% (Training) and 20% (Validation) \n",
    "df_train, df_valid = train_test_split(df_remaining,test_size=0.25, random_state=1996)\n",
    "\n",
    "# Validating distribution\n",
    "train_pct = round((df_train['age'].count() / total) *100,2)\n",
    "valid_pct = round((df_valid['age'].count() / total) *100,2)\n",
    "test_pct = round((df_test['age'].count() / total) *100,2)\n",
    "print(f\"From 100% of the data, the following was selected:\\n{train_pct}% for training.\\n{valid_pct}% for validation.\\n{test_pct}% for testing.\")"
   ]
  },
  {
   "cell_type": "code",
   "execution_count": 324,
   "metadata": {},
   "outputs": [],
   "source": [
    "#Train\n",
    "features_train = df_train.drop('exited',axis = 1)\n",
    "target_train = df_train['exited']\n",
    "\n",
    "#Validation\n",
    "features_valid = df_valid.drop('exited',axis = 1)\n",
    "target_valid = df_valid['exited']\n",
    "\n",
    "#Test\n",
    "features_test = df_test.drop('exited',axis = 1)\n",
    "target_test = df_test['exited']"
   ]
  },
  {
   "cell_type": "markdown",
   "metadata": {},
   "source": [
    "## TRAININIG MODELS"
   ]
  },
  {
   "cell_type": "markdown",
   "metadata": {},
   "source": [
    "### Data Balancing"
   ]
  },
  {
   "cell_type": "code",
   "execution_count": 325,
   "metadata": {},
   "outputs": [],
   "source": [
    "# Function\n",
    "def upsample(features, target, repeat):\n",
    "    features_zeros = features[target == 0]\n",
    "    features_ones = features[target == 1]\n",
    "    target_zeros = target[target == 0]\n",
    "    target_ones = target[target == 1]\n",
    "\n",
    "    features_upsampled = pd.concat([features_zeros] + [features_ones] * repeat)\n",
    "    target_upsampled = pd.concat([target_zeros] + [target_ones] * repeat)\n",
    "\n",
    "    features_upsampled, target_upsampled = shuffle(features_upsampled, target_upsampled, random_state=1996)\n",
    "    \n",
    "    return features_upsampled, target_upsampled"
   ]
  },
  {
   "cell_type": "code",
   "execution_count": 326,
   "metadata": {},
   "outputs": [
    {
     "name": "stdout",
     "output_type": "stream",
     "text": [
      "exited\n",
      "0    4813\n",
      "1    4748\n",
      "Name: count, dtype: int64\n"
     ]
    }
   ],
   "source": [
    "# Balancing according to our chart\n",
    "features_upsampled, target_upsampled = upsample(features_train, target_train, 4)\n",
    "print(target_upsampled.value_counts())"
   ]
  },
  {
   "cell_type": "markdown",
   "metadata": {},
   "source": [
    "### Decision Tree"
   ]
  },
  {
   "cell_type": "code",
   "execution_count": 327,
   "metadata": {},
   "outputs": [
    {
     "name": "stdout",
     "output_type": "stream",
     "text": [
      "Best F1: 0.5735294117647058\n",
      "AUC-ROC: 0.672157836272301\n",
      "Best depth:4\n"
     ]
    }
   ],
   "source": [
    "b_depth = 0\n",
    "dt_bf1 = 0\n",
    "\n",
    "for depth in range(1,50):  \n",
    "    model_dtc = DecisionTreeClassifier(random_state=1996, max_depth=depth) \n",
    "    model_dtc.fit(features_upsampled,target_upsampled)\n",
    "\n",
    "    prediction_valid = model_dtc.predict(features_valid)\n",
    "    f1 = f1_score(target_valid,prediction_valid)\n",
    "    probabilities_valid = model_dtc.predict_proba(features_valid)[:, 1]\n",
    "    dt_auc = roc_auc_score(target_valid,probabilities_valid)\n",
    "    if f1 > dt_bf1:\n",
    "        dt_bf1 = f1\n",
    "        b_depth = depth\n",
    "\n",
    "print(f'Best F1: {dt_bf1}\\nAUC-ROC: {dt_auc}\\nBest depth:{b_depth}')"
   ]
  },
  {
   "cell_type": "markdown",
   "metadata": {},
   "source": [
    "Remarks\n",
    "\n",
    "- In this case, we have obtained an F1 score slightly lower than the minimum required by the bank. So this model is not going to be an option."
   ]
  },
  {
   "cell_type": "markdown",
   "metadata": {},
   "source": [
    "### Random Forest"
   ]
  },
  {
   "cell_type": "code",
   "execution_count": 328,
   "metadata": {},
   "outputs": [],
   "source": [
    "# Creating a function\n",
    "def rfc_model_test(f_train,t_train,f_valid,t_valid,weight = None, estimator = 100,max_depth = 25):\n",
    "    b_est = 0\n",
    "    b_depth = 0\n",
    "    rf_bf1 = 0\n",
    "\n",
    "    for est in range (1,estimator,10):\n",
    "        for depth in range(1,max_depth):\n",
    "            model_rfc = RandomForestClassifier(random_state=1996, n_estimators=est, max_depth = depth, class_weight = weight)\n",
    "            model_rfc.fit(f_train,t_train)\n",
    "            p_valid = model_rfc.predict(f_valid)\n",
    "            f1 = f1_score(t_valid,p_valid)\n",
    "            probabilities_valid = model_rfc.predict_proba(features_valid)[:, 1]\n",
    "            rf_auc = roc_auc_score(target_valid,probabilities_valid)\n",
    "            if f1 > rf_bf1:\n",
    "                rf_bf1 = f1\n",
    "                b_est = est\n",
    "                b_depth = depth\n",
    "\n",
    "    print(f'Best F1: {rf_bf1}\\nAUC-ROC: {rf_auc}\\nEstimator: {b_est}\\nDepth: {b_depth}')\n",
    "\n",
    "    return rf_bf1, rf_auc"
   ]
  },
  {
   "cell_type": "code",
   "execution_count": 329,
   "metadata": {},
   "outputs": [
    {
     "name": "stdout",
     "output_type": "stream",
     "text": [
      "Best F1: 0.6335697399527187\n",
      "AUC-ROC: 0.8479966900075104\n",
      "Estimator: 61\n",
      "Depth: 11\n"
     ]
    }
   ],
   "source": [
    "rf_bf1, rf_auc = rfc_model_test(features_upsampled,target_upsampled,features_valid,target_valid)"
   ]
  },
  {
   "cell_type": "markdown",
   "metadata": {},
   "source": [
    "Remarks\n",
    "\n",
    "- In this case, we have obtained an F1 score slightly above the minimum threshold set by the bank."
   ]
  },
  {
   "cell_type": "markdown",
   "metadata": {},
   "source": [
    "### Logistic Regression"
   ]
  },
  {
   "cell_type": "code",
   "execution_count": 330,
   "metadata": {},
   "outputs": [
    {
     "name": "stdout",
     "output_type": "stream",
     "text": [
      "Best F1: 0.46307053941908716\n",
      "AUC-ROC: 0.7249872952054579\n"
     ]
    }
   ],
   "source": [
    "model_lr = LogisticRegression(random_state=1996, solver='liblinear') \n",
    "\n",
    "model_lr.fit(features_upsampled,target_upsampled)\n",
    "predicted_valid = model_lr.predict(features_valid)\n",
    "lr_bf1 = f1_score(target_valid, predicted_valid)\n",
    "probabilities_valid = model_lr.predict_proba(features_valid)[:, 1]\n",
    "lr_auc = roc_auc_score(target_valid,probabilities_valid)\n",
    "print(f\"Best F1: {lr_bf1}\\nAUC-ROC: {lr_auc}\")"
   ]
  },
  {
   "cell_type": "markdown",
   "metadata": {},
   "source": [
    "Remarks\n",
    "\n",
    "- In this third model, we can observe that its F1 score is well below the required threshold.\n"
   ]
  },
  {
   "cell_type": "markdown",
   "metadata": {},
   "source": [
    "## TESTING BEST MODEL"
   ]
  },
  {
   "cell_type": "code",
   "execution_count": 331,
   "metadata": {},
   "outputs": [
    {
     "data": {
      "text/html": [
       "<div>\n",
       "<style scoped>\n",
       "    .dataframe tbody tr th:only-of-type {\n",
       "        vertical-align: middle;\n",
       "    }\n",
       "\n",
       "    .dataframe tbody tr th {\n",
       "        vertical-align: top;\n",
       "    }\n",
       "\n",
       "    .dataframe thead th {\n",
       "        text-align: right;\n",
       "    }\n",
       "</style>\n",
       "<table border=\"1\" class=\"dataframe\">\n",
       "  <thead>\n",
       "    <tr style=\"text-align: right;\">\n",
       "      <th></th>\n",
       "      <th>F1 Score</th>\n",
       "      <th>AUC-ROC</th>\n",
       "    </tr>\n",
       "  </thead>\n",
       "  <tbody>\n",
       "    <tr>\n",
       "      <th>DecisionTree</th>\n",
       "      <td>0.573529</td>\n",
       "      <td>0.672158</td>\n",
       "    </tr>\n",
       "    <tr>\n",
       "      <th>RandomForest</th>\n",
       "      <td>0.633570</td>\n",
       "      <td>0.847997</td>\n",
       "    </tr>\n",
       "    <tr>\n",
       "      <th>LogisticRegression</th>\n",
       "      <td>0.463071</td>\n",
       "      <td>0.724987</td>\n",
       "    </tr>\n",
       "  </tbody>\n",
       "</table>\n",
       "</div>"
      ],
      "text/plain": [
       "                    F1 Score   AUC-ROC\n",
       "DecisionTree        0.573529  0.672158\n",
       "RandomForest        0.633570  0.847997\n",
       "LogisticRegression  0.463071  0.724987"
      ]
     },
     "execution_count": 331,
     "metadata": {},
     "output_type": "execute_result"
    }
   ],
   "source": [
    "index = ['DecisionTree','RandomForest','LogisticRegression']\n",
    "columns = ['F1 Score','AUC-ROC']\n",
    "values = [[dt_bf1,dt_auc],[rf_bf1,rf_auc],[lr_bf1,lr_auc]]\n",
    "\n",
    "metrics_summary = pd.DataFrame(values,index=index,columns=columns)\n",
    "metrics_summary"
   ]
  },
  {
   "cell_type": "markdown",
   "metadata": {},
   "source": [
    "Remarks\n",
    "- Based on the previous table metrics, the best option to use after balacing the data is the RandomForest model with a ___F1: 0.636 and AUC-ROC:0.846___"
   ]
  },
  {
   "cell_type": "code",
   "execution_count": 333,
   "metadata": {},
   "outputs": [
    {
     "name": "stdout",
     "output_type": "stream",
     "text": [
      "F1 score: 0.6128680479825518\n",
      " AUC_ROC: 0.7249872952054579\n"
     ]
    }
   ],
   "source": [
    "t_model = RandomForestClassifier(max_depth=10, n_estimators=51, random_state=1996)\n",
    "t_model.fit(features_upsampled,target_upsampled)\n",
    "predict_test = t_model.predict(features_test)\n",
    "f1 = f1_score(target_test,predict_test)\n",
    "probabilities_valid = model_lr.predict_proba(features_valid)[:, 1]\n",
    "auc_roc = roc_auc_score(target_valid,probabilities_valid)\n",
    "\n",
    "print(f\"F1 score: {f1}\\n AUC_ROC: {auc_roc}\")"
   ]
  },
  {
   "cell_type": "markdown",
   "metadata": {},
   "source": [
    "## FINAL CONCLUTION\n",
    "\n",
    "\n",
    "In conclusion, after adjusting and compensating for the classes, it was determined that the best ML model obtained is the Random Forest with the following parameters:\n",
    "RandomForestClassifier(class_weight='balanced', max_depth=10, n_estimators=51, random_state=1996), using repeat = 4.\n",
    "\n",
    "Although this set of adjustments does not yield the highest F1 score, when tested with the test data subset, it shows the smallest difference between the validation model and the test model. Additionally, its AUC-ROC value is very similar in both models.\n",
    "\n",
    "___One reason why the F1 score did not achieve excellent results could be due to the amount of data we're working with, or perhaps because there are insufficient correlations in the features for the model to improve its effectiveness.___"
   ]
  }
 ],
 "metadata": {
  "kernelspec": {
   "display_name": "Python 3",
   "language": "python",
   "name": "python3"
  },
  "language_info": {
   "codemirror_mode": {
    "name": "ipython",
    "version": 3
   },
   "file_extension": ".py",
   "mimetype": "text/x-python",
   "name": "python",
   "nbconvert_exporter": "python",
   "pygments_lexer": "ipython3",
   "version": "3.11.9"
  }
 },
 "nbformat": 4,
 "nbformat_minor": 2
}
